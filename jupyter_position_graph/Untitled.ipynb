{
 "cells": [
  {
   "cell_type": "code",
   "execution_count": 1,
   "id": "d9de91bb",
   "metadata": {},
   "outputs": [],
   "source": [
    "import cv2 as cv\n",
    "from cv2 import aruco\n",
    "from picamera2 import Picamera2\n",
    "import time\n",
    "import numpy as np\n",
    "import matplotlib.pyplot as plt"
   ]
  },
  {
   "cell_type": "code",
   "execution_count": 3,
   "id": "54010241",
   "metadata": {},
   "outputs": [
    {
     "name": "stdout",
     "output_type": "stream",
     "text": [
      "x : [], y : []\n"
     ]
    }
   ],
   "source": [
    "def collect_data():\n",
    "    marker_dict = aruco.getPredefinedDictionary(aruco.DICT_5X5_250) # gets the dictionary type and store it as marker_dict\n",
    "\n",
    "    # detect the marker\n",
    "    param_markers = aruco.DetectorParameters_create() # detects parameters to be used to detect the marker\n",
    "\n",
    "    # utilizes default camera/webcam driver\n",
    "    picam2 = Picamera2()\n",
    "\n",
    "    config = picam2.create_preview_configuration(main={\"size\": (640, 480)}, lores={\"size\": (320, 240)}, display=\"lores\")\n",
    "    picam2.configure(config)\n",
    "\n",
    "    picam2.start()\n",
    "    time.sleep(0.01)\n",
    "    cv.namedWindow(\"RPI\", cv.WINDOW_NORMAL)\n",
    "    x = []\n",
    "    y = []\n",
    "    # iterate through multiple frames, in a live video feed\n",
    "    while True:\n",
    "        frame = picam2.capture_array(\"main\")\n",
    "        frame_bgr = cv.cvtColor(frame, cv.COLOR_RGB2BGR)\n",
    "        #cv.imshow(\"RPI live\", frame_bgr)\n",
    "        # turning the frame to grayscale-only (for efficiency)\n",
    "        gray_frame = cv.cvtColor(frame, cv.COLOR_BGR2GRAY) # converting to gray scale\n",
    "        #cv.imshow('gray', gray_frame) # displays the window of frame converted to grayscale\n",
    "        marker_corners, marker_IDs, reject = aruco.detectMarkers(\n",
    "            gray_frame, marker_dict, parameters=param_markers\n",
    "        ) # detecting the corners\n",
    "        if marker_corners:\n",
    "            # print(marker_corners[0][0][0][0])\n",
    "            x.append(marker_corners[0][0][0][0])\n",
    "            y.append(marker_corners[0][0][0][1])\n",
    "\n",
    "        # print(marker_IDs)\n",
    "        # print(reject)\n",
    "        # getting conrners of markers\n",
    "        if marker_IDs is not None and marker_corners is not None: # if markers corners were found\n",
    "            # print(\"marker\")\n",
    "            for ids, corners in zip(marker_IDs, marker_corners): # this combines both the id and corners\n",
    "                cv.polylines( # draws the outline of the aruco marker\n",
    "                    frame, [corners.astype(np.int32)], True, (0, 255, 255), 4, cv.LINE_AA\n",
    "                ) # astype is used so that it will be converted to integers\n",
    "                corners = corners.reshape(4, 2) # assigning corners\n",
    "                corners = corners.astype(int)\n",
    "                top_right = corners[0].ravel()\n",
    "                top_left = corners[1].ravel()\n",
    "                bottom_right = corners[2].ravel() # ravel makes the numpy array into single line\n",
    "                bottom_left = corners[3].ravel()\n",
    "                cv.putText( # inserting text of the id \n",
    "                    frame,\n",
    "                    f\"id: {ids[0]}\",\n",
    "                    top_right,\n",
    "                    cv.FONT_HERSHEY_PLAIN,\n",
    "                    1.3,\n",
    "                    (200, 100, 0),\n",
    "                    2,\n",
    "                    cv.LINE_AA,\n",
    "                )\n",
    "\n",
    "        cv.imshow(\"frame\", frame) # displays the frame\n",
    "        key = cv.waitKey(1)\n",
    "        if key == ord(\"q\"): # break when user presses q\n",
    "            break\n",
    "\n",
    "print(f\"x : {x}, y : {y}\")\n",
    "picam2.stop()\n",
    "cv.destroyAllWindows()"
   ]
  }
 ],
 "metadata": {
  "kernelspec": {
   "display_name": "Python 3 (ipykernel)",
   "language": "python",
   "name": "python3"
  },
  "language_info": {
   "codemirror_mode": {
    "name": "ipython",
    "version": 3
   },
   "file_extension": ".py",
   "mimetype": "text/x-python",
   "name": "python",
   "nbconvert_exporter": "python",
   "pygments_lexer": "ipython3",
   "version": "3.11.2"
  }
 },
 "nbformat": 4,
 "nbformat_minor": 5
}
